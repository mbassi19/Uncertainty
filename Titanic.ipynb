{
 "cells": [
  {
   "cell_type": "markdown",
   "metadata": {},
   "source": [
    "# Titanic\n",
    "\n",
    "In this project, we predict the \"death\" or \"survival\" of Titanic's passengers, it's then a classification problem that we solve here ... Several methods may be used, in our case we chose to apply 4 algorithms :\n",
    "\n",
    "* Logistic Regression \n",
    "* Support Vector Machine\n",
    "* Random Forest\n",
    "* Decision Tree"
   ]
  },
  {
   "cell_type": "code",
   "execution_count": 1,
   "metadata": {},
   "outputs": [],
   "source": [
    "import numpy as np\n",
    "import pandas as pd\n",
    "import sklearn\n",
    "import matplotlib.pyplot as plt\n",
    "from sklearn import metrics"
   ]
  },
  {
   "cell_type": "code",
   "execution_count": 2,
   "metadata": {},
   "outputs": [],
   "source": [
    "t_train = pd.read_csv('train.csv')\n",
    "t_test = pd.read_csv('test.csv')\n",
    "ytest = pd.read_csv('gender_submission.csv')"
   ]
  },
  {
   "cell_type": "code",
   "execution_count": 3,
   "metadata": {},
   "outputs": [
    {
     "data": {
      "text/plain": [
       "Index(['PassengerId', 'Survived', 'Pclass', 'Name', 'Sex', 'Age', 'SibSp',\n",
       "       'Parch', 'Ticket', 'Fare', 'Cabin', 'Embarked'],\n",
       "      dtype='object')"
      ]
     },
     "execution_count": 3,
     "metadata": {},
     "output_type": "execute_result"
    }
   ],
   "source": [
    "t_train.columns"
   ]
  },
  {
   "cell_type": "markdown",
   "metadata": {},
   "source": [
    "#### It's clear that some of the above varibles do absolutely have any impact on one's chance to survive while 'Sex', 'Age' and 'Pclass' seem to be the main factors that determine the fate of a traveler.\n",
    "\n",
    "* We expect men to sacrifice their lives to save women (like in the movie !)\n",
    "* The parents will give way to their children in the rescue boats and the young will do the same for the old ones..\n",
    "* Wealthy people who could afford a P1 class ticket will take place first in the rescue boats, followed by medium class travelers who bought a P2 class ticket, and then, the miserable ones who have a P3 ticket (if there are still some places for them !)\n",
    "\n",
    "We will then explain the Boolean variable 'Survived' via 'Sex', 'Age' and 'Pclass'"
   ]
  },
  {
   "cell_type": "code",
   "execution_count": 4,
   "metadata": {},
   "outputs": [],
   "source": [
    "t1 = t_train[['Sex', 'Pclass', 'Age','Survived']]\n",
    "z1 = t_test[['Sex', 'Pclass', 'Age']]"
   ]
  },
  {
   "cell_type": "code",
   "execution_count": 5,
   "metadata": {},
   "outputs": [
    {
     "data": {
      "text/html": [
       "<div>\n",
       "<style scoped>\n",
       "    .dataframe tbody tr th:only-of-type {\n",
       "        vertical-align: middle;\n",
       "    }\n",
       "\n",
       "    .dataframe tbody tr th {\n",
       "        vertical-align: top;\n",
       "    }\n",
       "\n",
       "    .dataframe thead th {\n",
       "        text-align: right;\n",
       "    }\n",
       "</style>\n",
       "<table border=\"1\" class=\"dataframe\">\n",
       "  <thead>\n",
       "    <tr style=\"text-align: right;\">\n",
       "      <th></th>\n",
       "      <th>Sex</th>\n",
       "      <th>Pclass</th>\n",
       "      <th>Age</th>\n",
       "      <th>Survived</th>\n",
       "    </tr>\n",
       "  </thead>\n",
       "  <tbody>\n",
       "    <tr>\n",
       "      <th>0</th>\n",
       "      <td>male</td>\n",
       "      <td>3</td>\n",
       "      <td>22.0</td>\n",
       "      <td>0</td>\n",
       "    </tr>\n",
       "    <tr>\n",
       "      <th>1</th>\n",
       "      <td>female</td>\n",
       "      <td>1</td>\n",
       "      <td>38.0</td>\n",
       "      <td>1</td>\n",
       "    </tr>\n",
       "    <tr>\n",
       "      <th>2</th>\n",
       "      <td>female</td>\n",
       "      <td>3</td>\n",
       "      <td>26.0</td>\n",
       "      <td>1</td>\n",
       "    </tr>\n",
       "    <tr>\n",
       "      <th>3</th>\n",
       "      <td>female</td>\n",
       "      <td>1</td>\n",
       "      <td>35.0</td>\n",
       "      <td>1</td>\n",
       "    </tr>\n",
       "    <tr>\n",
       "      <th>4</th>\n",
       "      <td>male</td>\n",
       "      <td>3</td>\n",
       "      <td>35.0</td>\n",
       "      <td>0</td>\n",
       "    </tr>\n",
       "  </tbody>\n",
       "</table>\n",
       "</div>"
      ],
      "text/plain": [
       "      Sex  Pclass   Age  Survived\n",
       "0    male       3  22.0         0\n",
       "1  female       1  38.0         1\n",
       "2  female       3  26.0         1\n",
       "3  female       1  35.0         1\n",
       "4    male       3  35.0         0"
      ]
     },
     "execution_count": 5,
     "metadata": {},
     "output_type": "execute_result"
    }
   ],
   "source": [
    "t1.head()"
   ]
  },
  {
   "cell_type": "code",
   "execution_count": 6,
   "metadata": {},
   "outputs": [
    {
     "data": {
      "text/plain": [
       "Sex         891\n",
       "Pclass      891\n",
       "Age         714\n",
       "Survived    891\n",
       "dtype: int64"
      ]
     },
     "execution_count": 6,
     "metadata": {},
     "output_type": "execute_result"
    }
   ],
   "source": [
    "t1.count()"
   ]
  },
  {
   "cell_type": "markdown",
   "metadata": {},
   "source": [
    "#### We notice that some values are missing in the 'Age' column. In order to fix it :\n",
    "\n",
    "* One may drop them, but in this case, he will lose 20% of data\n",
    "* A second option consist in filling them with a sample having the same distribution as this of the available values, but we will see that this one can't be approached by any one of the \"usual\" probability laws\n",
    "\n",
    "\n",
    "* The mean 'Age' is 29.7 and the standard deviation is 14.53 so that the coefficient of variation is about 0.5, so the coefficient is excellent and the series is well concentrated around the average. That's why we will replace the NaN with the MEAN."
   ]
  },
  {
   "cell_type": "code",
   "execution_count": 7,
   "metadata": {},
   "outputs": [],
   "source": [
    "tna = t1['Age'].fillna(t1['Age'].mean())\n",
    "t2 = t1[['Sex', 'Pclass','Survived']]\n",
    "t2['Age'] = tna\n",
    "t2 = t2[['Sex', 'Pclass','Age','Survived']]\n",
    "\n",
    "# On prépare les données du test en parallèle\n",
    "\n",
    "zna = z1['Age'].fillna(t1['Age'].mean())\n",
    "z2 = z1[['Sex', 'Pclass']]\n",
    "z2['Age'] = zna\n",
    "z2['Survived'] = ytest['Survived']"
   ]
  },
  {
   "cell_type": "code",
   "execution_count": 8,
   "metadata": {},
   "outputs": [
    {
     "data": {
      "text/html": [
       "<div>\n",
       "<style scoped>\n",
       "    .dataframe tbody tr th:only-of-type {\n",
       "        vertical-align: middle;\n",
       "    }\n",
       "\n",
       "    .dataframe tbody tr th {\n",
       "        vertical-align: top;\n",
       "    }\n",
       "\n",
       "    .dataframe thead th {\n",
       "        text-align: right;\n",
       "    }\n",
       "</style>\n",
       "<table border=\"1\" class=\"dataframe\">\n",
       "  <thead>\n",
       "    <tr style=\"text-align: right;\">\n",
       "      <th></th>\n",
       "      <th>Sex</th>\n",
       "      <th>Pclass</th>\n",
       "      <th>Age</th>\n",
       "      <th>Survived</th>\n",
       "    </tr>\n",
       "  </thead>\n",
       "  <tbody>\n",
       "    <tr>\n",
       "      <th>0</th>\n",
       "      <td>male</td>\n",
       "      <td>3</td>\n",
       "      <td>34.5</td>\n",
       "      <td>0</td>\n",
       "    </tr>\n",
       "    <tr>\n",
       "      <th>1</th>\n",
       "      <td>female</td>\n",
       "      <td>3</td>\n",
       "      <td>47.0</td>\n",
       "      <td>1</td>\n",
       "    </tr>\n",
       "    <tr>\n",
       "      <th>2</th>\n",
       "      <td>male</td>\n",
       "      <td>2</td>\n",
       "      <td>62.0</td>\n",
       "      <td>0</td>\n",
       "    </tr>\n",
       "    <tr>\n",
       "      <th>3</th>\n",
       "      <td>male</td>\n",
       "      <td>3</td>\n",
       "      <td>27.0</td>\n",
       "      <td>0</td>\n",
       "    </tr>\n",
       "    <tr>\n",
       "      <th>4</th>\n",
       "      <td>female</td>\n",
       "      <td>3</td>\n",
       "      <td>22.0</td>\n",
       "      <td>1</td>\n",
       "    </tr>\n",
       "  </tbody>\n",
       "</table>\n",
       "</div>"
      ],
      "text/plain": [
       "      Sex  Pclass   Age  Survived\n",
       "0    male       3  34.5         0\n",
       "1  female       3  47.0         1\n",
       "2    male       2  62.0         0\n",
       "3    male       3  27.0         0\n",
       "4  female       3  22.0         1"
      ]
     },
     "execution_count": 8,
     "metadata": {},
     "output_type": "execute_result"
    }
   ],
   "source": [
    "z2.head()"
   ]
  },
  {
   "cell_type": "code",
   "execution_count": 9,
   "metadata": {},
   "outputs": [
    {
     "data": {
      "text/plain": [
       "Sex         891\n",
       "Pclass      891\n",
       "Age         891\n",
       "Survived    891\n",
       "dtype: int64"
      ]
     },
     "execution_count": 9,
     "metadata": {},
     "output_type": "execute_result"
    }
   ],
   "source": [
    "t2.count()"
   ]
  },
  {
   "cell_type": "code",
   "execution_count": 10,
   "metadata": {},
   "outputs": [
    {
     "data": {
      "text/plain": [
       "Sex         0\n",
       "Pclass      0\n",
       "Age         0\n",
       "Survived    0\n",
       "dtype: int64"
      ]
     },
     "execution_count": 10,
     "metadata": {},
     "output_type": "execute_result"
    }
   ],
   "source": [
    "t2.isnull().sum(axis = 0)"
   ]
  },
  {
   "cell_type": "code",
   "execution_count": 11,
   "metadata": {},
   "outputs": [
    {
     "data": {
      "text/plain": [
       "Pclass  Survived\n",
       "1       1           136\n",
       "        0            80\n",
       "2       0            97\n",
       "        1            87\n",
       "3       0           372\n",
       "        1           119\n",
       "Name: Survived, dtype: int64"
      ]
     },
     "execution_count": 11,
     "metadata": {},
     "output_type": "execute_result"
    }
   ],
   "source": [
    "tc = t1.groupby('Pclass').Survived.value_counts()\n",
    "tc"
   ]
  },
  {
   "cell_type": "code",
   "execution_count": 12,
   "metadata": {},
   "outputs": [
    {
     "data": {
      "image/png": "[encoded data removed]",
      "text/plain": [
       "<Figure size 432x288 with 1 Axes>"
      ]
     },
     "metadata": {
      "needs_background": "light"
     },
     "output_type": "display_data"
    }
   ],
   "source": [
    "X1 = [(1,0),(1,1),(2,0),(2,1),(3,0),(3,1)]\n",
    "tc.reindex(X1).plot.bar(color=['darkgoldenrod','yellow','darkblue','lavender','darkred','tomato'])\n",
    "plt.show()"
   ]
  },
  {
   "cell_type": "markdown",
   "metadata": {},
   "source": [
    "The above figure shows clearly - as expected - the relationship between the Class of the passenger and his chance to survive, then:\n",
    "\n",
    "* There are more survivors than dead in the first class (left)\n",
    "* There are almost as many lucky as unlucky ones in the second class (center)\n",
    "* The gap is huge between dead and survivors in the third class where the number of victims is about four times the one of the second class"
   ]
  },
  {
   "cell_type": "code",
   "execution_count": 13,
   "metadata": {},
   "outputs": [
    {
     "data": {
      "text/plain": [
       "Sex     Survived\n",
       "female  1           233\n",
       "        0            81\n",
       "male    0           468\n",
       "        1           109\n",
       "Name: Survived, dtype: int64"
      ]
     },
     "execution_count": 13,
     "metadata": {},
     "output_type": "execute_result"
    }
   ],
   "source": [
    "ts = t1.groupby('Sex').Survived.value_counts()\n",
    "ts"
   ]
  },
  {
   "cell_type": "code",
   "execution_count": 14,
   "metadata": {},
   "outputs": [
    {
     "data": {
      "image/png": "[encoded data removed]",
      "text/plain": [
       "<Figure size 432x288 with 1 Axes>"
      ]
     },
     "metadata": {
      "needs_background": "light"
     },
     "output_type": "display_data"
    }
   ],
   "source": [
    "X2 = [('male',0),('male',1),('female',0),('female',1)]\n",
    "\n",
    "ts.reindex(X2).plot(kind='bar', color=['darkblue','lavender','darkred','pink'])\n",
    "plt.show()"
   ]
  },
  {
   "cell_type": "markdown",
   "metadata": {},
   "source": [
    "This figure shows also that for 4 dead men there is only one survivor, while only one woman 4 perished in this disaster."
   ]
  },
  {
   "cell_type": "code",
   "execution_count": 15,
   "metadata": {},
   "outputs": [
    {
     "data": {
      "text/plain": [
       "<matplotlib.axes._subplots.AxesSubplot at 0x2d6dead1108>"
      ]
     },
     "execution_count": 15,
     "metadata": {},
     "output_type": "execute_result"
    },
    {
     "data": {
      "image/png": "[encoded data removed]",
      "text/plain": [
       "<Figure size 360x864 with 3 Axes>"
      ]
     },
     "metadata": {
      "needs_background": "light"
     },
     "output_type": "display_data"
    }
   ],
   "source": [
    "fig, axes = plt.subplots(figsize=(5,12), nrows=3, ncols=1)\n",
    "t1[(t1['Pclass']==1)].Age.plot.hist(ax=axes[0], grid=False, bins=20, rwidth=0.9, color='green')\n",
    "t1[(t1['Pclass']==2)].Age.plot.hist(ax=axes[1], grid=False, bins=20, rwidth=0.9, color='coral')\n",
    "t1[(t1['Pclass']==3)].Age.plot.hist(ax=axes[2], grid=False, bins=20, rwidth=0.9, color='royalblue')"
   ]
  },
  {
   "cell_type": "markdown",
   "metadata": {},
   "source": [
    "These figures let us predict the existence of a relationship between the age of the travelers and the class they have chosen. \n",
    "This relationship is much clearer on the next figure where we use seaborn to present the density of the three series."
   ]
  },
  {
   "cell_type": "code",
   "execution_count": 16,
   "metadata": {},
   "outputs": [
    {
     "data": {
      "text/plain": [
       "<matplotlib.legend.Legend at 0x2d6ded8be48>"
      ]
     },
     "execution_count": 16,
     "metadata": {},
     "output_type": "execute_result"
    },
    {
     "data": {
      "image/png": "[encoded data removed]",
      "text/plain": [
       "<Figure size 432x288 with 1 Axes>"
      ]
     },
     "metadata": {
      "needs_background": "light"
     },
     "output_type": "display_data"
    }
   ],
   "source": [
    "import seaborn as sns\n",
    "sns.kdeplot(t2.Age[t2.Pclass == 1], bw=3, color='darkred')\n",
    "sns.kdeplot(t2.Age[t2.Pclass == 2], bw=3, color='royalblue')\n",
    "sns.kdeplot(t2.Age[t2.Pclass == 3], bw=3, color='red')\n",
    "plt.legend(('1ère classe','2ème classe','3ème classe'))"
   ]
  },
  {
   "cell_type": "code",
   "execution_count": 17,
   "metadata": {},
   "outputs": [
    {
     "data": {
      "image/png": "[encoded data removed]",
      "text/plain": [
       "<Figure size 432x288 with 1 Axes>"
      ]
     },
     "metadata": {
      "needs_background": "light"
     },
     "output_type": "display_data"
    }
   ],
   "source": [
    "def surv_age(j):\n",
    "    v = t2[(t2['Age'] >= j*5) & (t2['Age'] < (j+1)*5)].Survived.mean()\n",
    "    return v\n",
    "\n",
    "from matplotlib.pyplot import *\n",
    "X = [i for i in range(17)]\n",
    "Y = [surv_age(i) for i in X]\n",
    "X = [i*5 for i in range(17)]\n",
    "\n",
    "C = ['royalblue']*14\n",
    "C[4] = 'red'\n",
    "C[5] = 'firebrick'\n",
    "\n",
    "fig, ax = subplots()\n",
    "TT = pd.DataFrame(Y,index=X)\n",
    "TT.plot(kind='bar',width=0.7, color=[C], ax=ax)\n",
    "ax.legend([\"Pourcentage des survivants selon les tranches dâge\"]);"
   ]
  },
  {
   "cell_type": "code",
   "execution_count": 18,
   "metadata": {},
   "outputs": [
    {
     "data": {
      "text/plain": [
       "<matplotlib.axes._subplots.AxesSubplot at 0x2d6def847c8>"
      ]
     },
     "execution_count": 18,
     "metadata": {},
     "output_type": "execute_result"
    },
    {
     "data": {
      "image/png": "[encoded data removed]",
      "text/plain": [
       "<Figure size 432x288 with 1 Axes>"
      ]
     },
     "metadata": {
      "needs_background": "light"
     },
     "output_type": "display_data"
    }
   ],
   "source": [
    "def count_age(j):\n",
    "    v = t1[(t2['Age'] >= j*5) & (t2['Age'] < (j+1)*5)].Survived.count()\n",
    "    return v\n",
    "\n",
    "X = [i for i in range(17)]\n",
    "Y = [count_age(i) for i in X]\n",
    "X = [i*5 for i in range(17)]\n",
    "\n",
    "C = ['royalblue']*14\n",
    "C[4] = 'red'\n",
    "C[5] = 'firebrick'\n",
    "\n",
    "fig, ax = subplots()\n",
    "TT2 = pd.DataFrame(Y,index=X)\n",
    "TT2.plot(kind='bar',width=0.7, ax=ax, color=[C], legend=False)"
   ]
  },
  {
   "cell_type": "markdown",
   "metadata": {},
   "source": [
    "The two latest figures show that:\n",
    "\n",
    "* People being between 20 and 29 are the ones who have less chance to survive, given that thses two classes are the largest ones.\n",
    "* The class [25, 29] is the largest one because it includes the mean age, then, the values we added to the dateset. However it remains the largest one even if we remove them.\n",
    "* Kids under 10 were the luckiest ones among all the passengers \n",
    "* the oldest person who was 80 was saved and it was a man.\n",
    "* Among travelers whose age is initially known, none were between 75 and 79 years old while all travelers between 65 and 74, and who were all men, drowned, and the they were 10 men."
   ]
  },
  {
   "cell_type": "code",
   "execution_count": 19,
   "metadata": {},
   "outputs": [
    {
     "data": {
      "text/html": [
       "<div>\n",
       "<style scoped>\n",
       "    .dataframe tbody tr th:only-of-type {\n",
       "        vertical-align: middle;\n",
       "    }\n",
       "\n",
       "    .dataframe tbody tr th {\n",
       "        vertical-align: top;\n",
       "    }\n",
       "\n",
       "    .dataframe thead th {\n",
       "        text-align: right;\n",
       "    }\n",
       "</style>\n",
       "<table border=\"1\" class=\"dataframe\">\n",
       "  <thead>\n",
       "    <tr style=\"text-align: right;\">\n",
       "      <th></th>\n",
       "      <th>Sex</th>\n",
       "      <th>Pclass</th>\n",
       "      <th>Age</th>\n",
       "      <th>Survived</th>\n",
       "    </tr>\n",
       "  </thead>\n",
       "  <tbody>\n",
       "    <tr>\n",
       "      <th>0</th>\n",
       "      <td>0</td>\n",
       "      <td>3</td>\n",
       "      <td>22.0</td>\n",
       "      <td>0</td>\n",
       "    </tr>\n",
       "    <tr>\n",
       "      <th>1</th>\n",
       "      <td>1</td>\n",
       "      <td>1</td>\n",
       "      <td>38.0</td>\n",
       "      <td>1</td>\n",
       "    </tr>\n",
       "    <tr>\n",
       "      <th>2</th>\n",
       "      <td>1</td>\n",
       "      <td>3</td>\n",
       "      <td>26.0</td>\n",
       "      <td>1</td>\n",
       "    </tr>\n",
       "    <tr>\n",
       "      <th>3</th>\n",
       "      <td>1</td>\n",
       "      <td>1</td>\n",
       "      <td>35.0</td>\n",
       "      <td>1</td>\n",
       "    </tr>\n",
       "    <tr>\n",
       "      <th>4</th>\n",
       "      <td>0</td>\n",
       "      <td>3</td>\n",
       "      <td>35.0</td>\n",
       "      <td>0</td>\n",
       "    </tr>\n",
       "  </tbody>\n",
       "</table>\n",
       "</div>"
      ],
      "text/plain": [
       "   Sex  Pclass   Age  Survived\n",
       "0    0       3  22.0         0\n",
       "1    1       1  38.0         1\n",
       "2    1       3  26.0         1\n",
       "3    1       1  35.0         1\n",
       "4    0       3  35.0         0"
      ]
     },
     "execution_count": 19,
     "metadata": {},
     "output_type": "execute_result"
    }
   ],
   "source": [
    "R = np.zeros(len(t2.Sex))\n",
    "S = np.zeros(len(z2.Sex))\n",
    "\n",
    "for i in range(len(t2.Sex)):\n",
    "    if t2.Sex[i] == 'female':\n",
    "        R[i] = 1\n",
    "    elif t2.Sex[i] == 'male':\n",
    "        R[i] = 0\n",
    "        \n",
    "for i in range(len(z2.Sex)):\n",
    "    if z2.Sex[i] == 'female':\n",
    "        S[i] = 1\n",
    "    elif t2.Sex[i] == 'male':\n",
    "        S[i] = 0\n",
    "\n",
    "R = pd.Series(R)\n",
    "S = pd.Series(S)\n",
    "\n",
    "t2.Sex = R\n",
    "z2.Sex = S\n",
    "\n",
    "t2['Sex'] = t2['Sex'].astype(int)\n",
    "z2['Sex'] = z2['Sex'].astype(int)\n",
    "\n",
    "t2.head()"
   ]
  },
  {
   "cell_type": "code",
   "execution_count": 20,
   "metadata": {},
   "outputs": [],
   "source": [
    "ytrain = t2.Survived.values\n",
    "xtrain = t2[['Pclass','Age','Sex']].values\n",
    "\n",
    "ytest = z2.Survived.values\n",
    "xtest = z2[['Pclass','Age','Sex']].values"
   ]
  },
  {
   "cell_type": "markdown",
   "metadata": {},
   "source": [
    "#### The first method used in ths work is the Logistic Regression with the Broyden–Fletcher–Goldfarb–Shanno algorithm aka lbfgs."
   ]
  },
  {
   "cell_type": "code",
   "execution_count": 21,
   "metadata": {},
   "outputs": [
    {
     "name": "stdout",
     "output_type": "stream",
     "text": [
      "0.8002244668911336\n"
     ]
    }
   ],
   "source": [
    "from sklearn import linear_model\n",
    "\n",
    "LR = linear_model.LogisticRegression(solver='lbfgs')\n",
    "model1 = LR.fit(xtrain,ytrain)"
   ]
  },
  {
   "cell_type": "code",
   "execution_count": 22,
   "metadata": {},
   "outputs": [
    {
     "name": "stdout",
     "output_type": "stream",
     "text": [
      "(array([0.96981132, 0.94117647]), array([0.96616541, 0.94736842]), array([0.96798493, 0.9442623 ]), array([266, 152], dtype=int64))\n"
     ]
    }
   ],
   "source": [
    "ypred1 = LR.predict(xtest)\n",
    "\n",
    "M1 = sklearn.metrics.precision_recall_fscore_support(ytest, ypred1) #, average='binary')\n",
    "\n",
    "print(M1)"
   ]
  },
  {
   "cell_type": "markdown",
   "metadata": {},
   "source": [
    "#### The second method which is the SVM is a classification method too. In the case of a Boolean variable, it divides the space into two parts with a hyperplane"
   ]
  },
  {
   "cell_type": "code",
   "execution_count": 23,
   "metadata": {},
   "outputs": [],
   "source": [
    "from sklearn import svm\n",
    "\n",
    "SVM = svm.LinearSVC(max_iter=200000)\n",
    "model2 = SVM.fit(xtrain,ytrain)"
   ]
  },
  {
   "cell_type": "code",
   "execution_count": 24,
   "metadata": {},
   "outputs": [
    {
     "name": "stdout",
     "output_type": "stream",
     "text": [
      "(array([0.9887218 , 0.98026316]), array([0.9887218 , 0.98026316]), array([0.9887218 , 0.98026316]), array([266, 152], dtype=int64))\n"
     ]
    }
   ],
   "source": [
    "ypred2 = SVM.predict(xtest)\n",
    "\n",
    "M2 = sklearn.metrics.precision_recall_fscore_support(ytest, ypred2) #, average='binary')\n",
    "\n",
    "print(M2)"
   ]
  },
  {
   "cell_type": "markdown",
   "metadata": {},
   "source": [
    "#### Now, we apply the Random Forest algorithm"
   ]
  },
  {
   "cell_type": "code",
   "execution_count": 25,
   "metadata": {},
   "outputs": [],
   "source": [
    "from sklearn.ensemble import RandomForestClassifier\n",
    "\n",
    "RF = RandomForestClassifier(n_estimators=20, random_state=0)\n",
    "model3 = RF.fit(xtrain,ytrain)"
   ]
  },
  {
   "cell_type": "code",
   "execution_count": 26,
   "metadata": {},
   "outputs": [
    {
     "name": "stdout",
     "output_type": "stream",
     "text": [
      "(array([0.90384615, 0.80379747]), array([0.88345865, 0.83552632]), array([0.89353612, 0.81935484]), array([266, 152], dtype=int64))\n"
     ]
    }
   ],
   "source": [
    "ypred3 = RF.predict(xtest)\n",
    "\n",
    "M3 = sklearn.metrics.precision_recall_fscore_support(ytest, ypred3) #, average='binary')\n",
    "\n",
    "print(M3)"
   ]
  },
  {
   "cell_type": "markdown",
   "metadata": {},
   "source": [
    "#### The last method used in this project is the Decision Tree"
   ]
  },
  {
   "cell_type": "code",
   "execution_count": 27,
   "metadata": {},
   "outputs": [],
   "source": [
    "from sklearn.tree import DecisionTreeClassifier\n",
    "\n",
    "DT = DecisionTreeClassifier()\n",
    "model4 = DT.fit(xtrain,ytrain)"
   ]
  },
  {
   "cell_type": "code",
   "execution_count": 28,
   "metadata": {},
   "outputs": [
    {
     "name": "stdout",
     "output_type": "stream",
     "text": [
      "(array([0.89097744, 0.80921053]), array([0.89097744, 0.80921053]), array([0.89097744, 0.80921053]), array([266, 152], dtype=int64))\n"
     ]
    }
   ],
   "source": [
    "ypred4 = DT.predict(xtest)\n",
    "\n",
    "M4 = sklearn.metrics.precision_recall_fscore_support(ytest, ypred4) #, average='binary')\n",
    "\n",
    "print(M4)"
   ]
  },
  {
   "cell_type": "markdown",
   "metadata": {},
   "source": [
    "_________________________________________________________________________\n",
    "_________________________________________________________________________\n",
    "_________________________________________________________________________\n",
    "#### In this work, 4 methods have been used to solve a classification problem, the performance of each of them has been measured by using three metrics: RECALL, PRECISION, and F1 SCORE and the results are given for both classes (positive and negative) trough M1, M2, M3 and M4\n",
    "\n",
    "#### The best results are provided by the SVM followed by the Logistic Regression, those ones are much better than those of the Random Forest and the Decision Tree\n",
    "\n",
    "#### The SVM is computationally much more expensive than the others, indeed, it required about 200000 iterations to converge and at 190000 iterations it shows a warning message about the convergence."
   ]
  },
  {
   "cell_type": "code",
   "execution_count": null,
   "metadata": {},
   "outputs": [],
   "source": []
  }
 ],
 "metadata": {
  "kernelspec": {
   "display_name": "Python 3",
   "language": "python",
   "name": "python3"
  },
  "language_info": {
   "codemirror_mode": {
    "name": "ipython",
    "version": 3
   },
   "file_extension": ".py",
   "mimetype": "text/x-python",
   "name": "python",
   "nbconvert_exporter": "python",
   "pygments_lexer": "ipython3",
   "version": "3.7.4"
  }
 },
 "nbformat": 4,
 "nbformat_minor": 2
}
