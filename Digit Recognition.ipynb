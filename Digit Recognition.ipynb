{
 "cells": [
  {
   "cell_type": "markdown",
   "metadata": {},
   "source": [
    "# Handwritten Digits Recognition Problem\n",
    "\n",
    "##### In this project, we propose two image processing models to recognize the value of a set of handwritten digits between 0 and 9. In a first step, we apply a Deep Learning based model, using the neural networks under tensorflow and keras, then, we solve the problem by using KNN classifier and we compare the two methods in terms of speed and quality, the quality is evaluated by three metrics : Recall, Precision and F1-score.\n",
    "\n",
    "Here is the description of the database :\n",
    "http://yann.lecun.com/exdb/mnist/"
   ]
  },
  {
   "cell_type": "code",
   "execution_count": 1,
   "metadata": {},
   "outputs": [],
   "source": [
    "import numpy as np\n",
    "import pandas as pd\n",
    "import sklearn\n",
    "import tensorflow as tf\n",
    "import matplotlib.pyplot as plt\n",
    "from sklearn import metrics\n",
    "import datetime"
   ]
  },
  {
   "cell_type": "code",
   "execution_count": 2,
   "metadata": {},
   "outputs": [],
   "source": [
    "mnist = tf.keras.datasets.mnist\n",
    "(a_train, b_train), (a_test, b_test) = mnist.load_data()"
   ]
  },
  {
   "cell_type": "code",
   "execution_count": 3,
   "metadata": {},
   "outputs": [
    {
     "name": "stdout",
     "output_type": "stream",
     "text": [
      "[[  0   0   0   0   0   0   0   0   0   0   0   0   0   0   0   0   0   0\n",
      "    0   0   0   0   0   0   0   0   0   0]\n",
      " [  0   0   0   0   0   0   0   0   0   0   0   0   0   0   0   0   0   0\n",
      "    0   0   0   0   0   0   0   0   0   0]\n",
      " [  0   0   0   0   0   0   0   0   0   0   0   0   0   0   0   0   0   0\n",
      "    0   0   0   0   0   0   0   0   0   0]\n",
      " [  0   0   0   0   0   0   0   0   0   0   0   0   0   0   0   0   0   0\n",
      "    0   0   0   0   0   0   0   0   0   0]\n",
      " [  0   0   0   0   0   0   0   0   0   0   0   0   0   0   0   0   0   0\n",
      "    0   0   0   0   0   0   0   0   0   0]\n",
      " [  0   0   0   0   0   0   0   0   0   0   0   0   0   0   0   0   0   0\n",
      "    0   0   0   0   0   0   0   0   0   0]\n",
      " [  0   0   0   0   0   0   0   0   0   0   0   0   0   0   0   0  38  48\n",
      "   48  22   0   0   0   0   0   0   0   0]\n",
      " [  0   0   0   0   0   0   0   0   0   0   0   0   0  62  97 198 243 254\n",
      "  254 212  27   0   0   0   0   0   0   0]\n",
      " [  0   0   0   0   0   0   0   0   0   0   0   0  67 172 254 254 225 218\n",
      "  218 237 248  40   0  21 164 187   0   0]\n",
      " [  0   0   0   0   0   0   0   0   0   0   0  89 219 254  97  67  14   0\n",
      "    0  92 231 122  23 203 236  59   0   0]\n",
      " [  0   0   0   0   0   0   0   0   0   0  25 217 242  92   4   0   0   0\n",
      "    0   4 147 253 240 232  92   0   0   0]\n",
      " [  0   0   0   0   0   0   0   0   0   0 101 255  92   0   0   0   0   0\n",
      "    0 105 254 254 177  11   0   0   0   0]\n",
      " [  0   0   0   0   0   0   0   0   0   0 167 244  41   0   0   0   7  76\n",
      "  199 238 239  94  10   0   0   0   0   0]\n",
      " [  0   0   0   0   0   0   0   0   0   0 192 121   0   0   2  63 180 254\n",
      "  233 126   0   0   0   0   0   0   0   0]\n",
      " [  0   0   0   0   0   0   0   0   0   0 190 196  14   2  97 254 252 146\n",
      "   52   0   0   0   0   0   0   0   0   0]\n",
      " [  0   0   0   0   0   0   0   0   0   0 130 225  71 180 232 181  60   0\n",
      "    0   0   0   0   0   0   0   0   0   0]\n",
      " [  0   0   0   0   0   0   0   0   0   0 130 254 254 230  46   0   0   0\n",
      "    0   0   0   0   0   0   0   0   0   0]\n",
      " [  0   0   0   0   0   0   0   0   6  77 244 254 162   4   0   0   0   0\n",
      "    0   0   0   0   0   0   0   0   0   0]\n",
      " [  0   0   0   0   0   0   0   0 110 254 218 254 116   0   0   0   0   0\n",
      "    0   0   0   0   0   0   0   0   0   0]\n",
      " [  0   0   0   0   0   0   0 131 254 154  28 213  86   0   0   0   0   0\n",
      "    0   0   0   0   0   0   0   0   0   0]\n",
      " [  0   0   0   0   0   0  66 209 153  19  19 233  60   0   0   0   0   0\n",
      "    0   0   0   0   0   0   0   0   0   0]\n",
      " [  0   0   0   0   0   0 142 254 165   0  14 216 167   0   0   0   0   0\n",
      "    0   0   0   0   0   0   0   0   0   0]\n",
      " [  0   0   0   0   0   0  90 254 175   0  18 229  92   0   0   0   0   0\n",
      "    0   0   0   0   0   0   0   0   0   0]\n",
      " [  0   0   0   0   0   0  26 229 249 176 222 244  44   0   0   0   0   0\n",
      "    0   0   0   0   0   0   0   0   0   0]\n",
      " [  0   0   0   0   0   0   0  73 193 197 134   0   0   0   0   0   0   0\n",
      "    0   0   0   0   0   0   0   0   0   0]\n",
      " [  0   0   0   0   0   0   0   0   0   0   0   0   0   0   0   0   0   0\n",
      "    0   0   0   0   0   0   0   0   0   0]\n",
      " [  0   0   0   0   0   0   0   0   0   0   0   0   0   0   0   0   0   0\n",
      "    0   0   0   0   0   0   0   0   0   0]\n",
      " [  0   0   0   0   0   0   0   0   0   0   0   0   0   0   0   0   0   0\n",
      "    0   0   0   0   0   0   0   0   0   0]]\n"
     ]
    }
   ],
   "source": [
    "print(a_train[-1])"
   ]
  },
  {
   "cell_type": "code",
   "execution_count": 4,
   "metadata": {},
   "outputs": [
    {
     "data": {
      "text/plain": [
       "((60000, 28, 28), (60000,), (10000, 28, 28), (10000,))"
      ]
     },
     "execution_count": 4,
     "metadata": {},
     "output_type": "execute_result"
    }
   ],
   "source": [
    "# Data dimensions\n",
    "\n",
    "a_train.shape, b_train.shape, a_test.shape, b_test.shape"
   ]
  },
  {
   "cell_type": "code",
   "execution_count": 5,
   "metadata": {},
   "outputs": [
    {
     "data": {
      "image/png": "[encoded data removed]",
      "text/plain": [
       "<Figure size 432x288 with 1 Axes>"
      ]
     },
     "metadata": {
      "needs_background": "light"
     },
     "output_type": "display_data"
    }
   ],
   "source": [
    "plt.imshow(a_train[-1], cmap=plt.cm.binary)\n",
    "plt.show()"
   ]
  },
  {
   "cell_type": "code",
   "execution_count": 6,
   "metadata": {},
   "outputs": [
    {
     "name": "stdout",
     "output_type": "stream",
     "text": [
      "Train on 60000 samples\n",
      "Epoch 1/4\n",
      "60000/60000 [==============================] - 7s 124us/sample - loss: 1.0694 - accuracy: 0.8553\n",
      "Epoch 2/4\n",
      "60000/60000 [==============================] - 4s 69us/sample - loss: 0.2942 - accuracy: 0.9333\n",
      "Epoch 3/4\n",
      "60000/60000 [==============================] - 4s 60us/sample - loss: 0.2517 - accuracy: 0.9454\n",
      "Epoch 4/4\n",
      "60000/60000 [==============================] - 4s 60us/sample - loss: 0.2351 - accuracy: 0.9523\n"
     ]
    },
    {
     "data": {
      "text/plain": [
       "datetime.timedelta(seconds=19, microseconds=428814)"
      ]
     },
     "execution_count": 6,
     "metadata": {},
     "output_type": "execute_result"
    }
   ],
   "source": [
    "# Here we build our neural network model\n",
    "t_nn0 = datetime.datetime.now()\n",
    "\n",
    "TF = tf.keras.models.Sequential()\n",
    "# It's mendatory to flatten the inputs and change their dimension to (60000,28*28) instead of (60000,28,28)\n",
    "TF.add(tf.keras.layers.Flatten(input_shape=(28,28))) \n",
    "TF.add(tf.keras.layers.Dense(64, activation=tf.nn.relu))\n",
    "TF.add(tf.keras.layers.Dense(64, activation=tf.nn.relu))\n",
    "# With two hidden layers we get good results\n",
    "# However we add a third one as it makes the results slightly better\n",
    "TF.add(tf.keras.layers.Dense(64, activation=tf.nn.relu)) \n",
    "TF.add(tf.keras.layers.Dense(10, activation=tf.nn.softmax))\n",
    "TF.compile(optimizer='RMSprop',\n",
    "           loss='sparse_categorical_crossentropy',\n",
    "           metrics=['accuracy'])\n",
    "\n",
    "TF.fit(a_train, b_train, epochs=4)\n",
    "b_pred = TF.predict(a_test)\n",
    "\n",
    "t_nn1 = datetime.datetime.now()\n",
    "t_nn1 - t_nn0"
   ]
  },
  {
   "cell_type": "code",
   "execution_count": 7,
   "metadata": {},
   "outputs": [
    {
     "name": "stdout",
     "output_type": "stream",
     "text": [
      "7 1.0\n"
     ]
    },
    {
     "data": {
      "image/png": "[encoded data removed]",
      "text/plain": [
       "<Figure size 432x288 with 1 Axes>"
      ]
     },
     "metadata": {
      "needs_background": "light"
     },
     "output_type": "display_data"
    },
    {
     "name": "stdout",
     "output_type": "stream",
     "text": [
      "2 1.0\n"
     ]
    },
    {
     "data": {
      "image/png": "[encoded data removed]",
      "text/plain": [
       "<Figure size 432x288 with 1 Axes>"
      ]
     },
     "metadata": {
      "needs_background": "light"
     },
     "output_type": "display_data"
    },
    {
     "name": "stdout",
     "output_type": "stream",
     "text": [
      "1 1.0\n"
     ]
    },
    {
     "data": {
      "image/png": "[encoded data removed]",
      "text/plain": [
       "<Figure size 432x288 with 1 Axes>"
      ]
     },
     "metadata": {
      "needs_background": "light"
     },
     "output_type": "display_data"
    },
    {
     "name": "stdout",
     "output_type": "stream",
     "text": [
      "0 0.9998454\n"
     ]
    },
    {
     "data": {
      "image/png": "[encoded data removed]",
      "text/plain": [
       "<Figure size 432x288 with 1 Axes>"
      ]
     },
     "metadata": {
      "needs_background": "light"
     },
     "output_type": "display_data"
    },
    {
     "name": "stdout",
     "output_type": "stream",
     "text": [
      "4 0.99979705\n"
     ]
    },
    {
     "data": {
      "image/png": "[encoded data removed]",
      "text/plain": [
       "<Figure size 432x288 with 1 Axes>"
      ]
     },
     "metadata": {
      "needs_background": "light"
     },
     "output_type": "display_data"
    },
    {
     "name": "stdout",
     "output_type": "stream",
     "text": [
      "1 0.999895\n"
     ]
    },
    {
     "data": {
      "image/png": "[encoded data removed]",
      "text/plain": [
       "<Figure size 432x288 with 1 Axes>"
      ]
     },
     "metadata": {
      "needs_background": "light"
     },
     "output_type": "display_data"
    },
    {
     "name": "stdout",
     "output_type": "stream",
     "text": [
      "4 0.9999949\n"
     ]
    },
    {
     "data": {
      "image/png": "[encoded data removed]",
      "text/plain": [
       "<Figure size 432x288 with 1 Axes>"
      ]
     },
     "metadata": {
      "needs_background": "light"
     },
     "output_type": "display_data"
    },
    {
     "name": "stdout",
     "output_type": "stream",
     "text": [
      "9 0.99862874\n"
     ]
    },
    {
     "data": {
      "image/png": "[encoded data removed]",
      "text/plain": [
       "<Figure size 432x288 with 1 Axes>"
      ]
     },
     "metadata": {
      "needs_background": "light"
     },
     "output_type": "display_data"
    }
   ],
   "source": [
    "for i in range(8):\n",
    "    print(np.argmax(b_pred[i]), b_pred[i][np.argmax(b_pred[i])])\n",
    "    plt.imshow(a_test[i], cmap=plt.cm.binary)\n",
    "    plt.show()"
   ]
  },
  {
   "cell_type": "code",
   "execution_count": 8,
   "metadata": {},
   "outputs": [],
   "source": [
    "pred_nn = []\n",
    "\n",
    "for i in range(len(b_pred)):\n",
    "    pred_nn.append(np.argmax(b_pred[i]))"
   ]
  },
  {
   "cell_type": "markdown",
   "metadata": {},
   "source": [
    "Here, we evaluate the quality of the Neural Network model by using \"sklearn.metrics.precision_recall_fscore_support\""
   ]
  },
  {
   "cell_type": "code",
   "execution_count": 9,
   "metadata": {},
   "outputs": [
    {
     "name": "stdout",
     "output_type": "stream",
     "text": [
      "(array([0.95630586, 0.98843416, 0.96307094, 0.95893452, 0.94637537,\n",
      "       0.81877934, 0.94506612, 0.97076613, 0.96308725, 0.93887776]), array([0.98265306, 0.97885463, 0.96027132, 0.85544554, 0.97046843,\n",
      "       0.97757848, 0.9697286 , 0.93677043, 0.88398357, 0.92864222]), array([0.96930045, 0.98362107, 0.96166909, 0.90423862, 0.95827049,\n",
      "       0.89115994, 0.95723854, 0.95346535, 0.92184154, 0.93373194]), array([ 980, 1135, 1032, 1010,  982,  892,  958, 1028,  974, 1009],\n",
      "      dtype=int64))\n"
     ]
    }
   ],
   "source": [
    "score_nn = sklearn.metrics.precision_recall_fscore_support(b_test, pred_nn)\n",
    "\n",
    "print(score_nn)"
   ]
  },
  {
   "cell_type": "markdown",
   "metadata": {},
   "source": [
    "The theoritical background of the classification metrics used in this work is exposed in this page :\n",
    "\n",
    "https://medium.com/swlh/recall-precision-f1-roc-auc-and-everything-542aedf322b9\n",
    "\n",
    "In the following, we calculate for each digit the number of positive, negative, real and predicted values.\n",
    "\n",
    "Positive and Negative ??\n",
    "\n",
    "For 0 : positive is 0 and negative is not 0\n",
    "\n",
    "For 1 : positive is 1 and negative is not 1\n",
    "\n",
    "and so ..."
   ]
  },
  {
   "cell_type": "code",
   "execution_count": 10,
   "metadata": {
    "scrolled": true
   },
   "outputs": [
    {
     "data": {
      "text/html": [
       "<div>\n",
       "<style scoped>\n",
       "    .dataframe tbody tr th:only-of-type {\n",
       "        vertical-align: middle;\n",
       "    }\n",
       "\n",
       "    .dataframe tbody tr th {\n",
       "        vertical-align: top;\n",
       "    }\n",
       "\n",
       "    .dataframe thead th {\n",
       "        text-align: right;\n",
       "    }\n",
       "</style>\n",
       "<table border=\"1\" class=\"dataframe\">\n",
       "  <thead>\n",
       "    <tr style=\"text-align: right;\">\n",
       "      <th></th>\n",
       "      <th>Precision</th>\n",
       "      <th>Recall</th>\n",
       "      <th>F1_score</th>\n",
       "      <th>Sum_P</th>\n",
       "      <th>Sum_N</th>\n",
       "      <th>Sum_Pred_P</th>\n",
       "      <th>Sum_Pred_N</th>\n",
       "    </tr>\n",
       "  </thead>\n",
       "  <tbody>\n",
       "    <tr>\n",
       "      <th>0</th>\n",
       "      <td>0.956306</td>\n",
       "      <td>0.982653</td>\n",
       "      <td>0.969300</td>\n",
       "      <td>980.0</td>\n",
       "      <td>9020.0</td>\n",
       "      <td>1007</td>\n",
       "      <td>8993</td>\n",
       "    </tr>\n",
       "    <tr>\n",
       "      <th>1</th>\n",
       "      <td>0.988434</td>\n",
       "      <td>0.978855</td>\n",
       "      <td>0.983621</td>\n",
       "      <td>1135.0</td>\n",
       "      <td>8865.0</td>\n",
       "      <td>1124</td>\n",
       "      <td>8876</td>\n",
       "    </tr>\n",
       "    <tr>\n",
       "      <th>2</th>\n",
       "      <td>0.963071</td>\n",
       "      <td>0.960271</td>\n",
       "      <td>0.961669</td>\n",
       "      <td>1032.0</td>\n",
       "      <td>8968.0</td>\n",
       "      <td>1029</td>\n",
       "      <td>8971</td>\n",
       "    </tr>\n",
       "    <tr>\n",
       "      <th>3</th>\n",
       "      <td>0.958935</td>\n",
       "      <td>0.855446</td>\n",
       "      <td>0.904239</td>\n",
       "      <td>1010.0</td>\n",
       "      <td>8990.0</td>\n",
       "      <td>901</td>\n",
       "      <td>9099</td>\n",
       "    </tr>\n",
       "    <tr>\n",
       "      <th>4</th>\n",
       "      <td>0.946375</td>\n",
       "      <td>0.970468</td>\n",
       "      <td>0.958270</td>\n",
       "      <td>982.0</td>\n",
       "      <td>9018.0</td>\n",
       "      <td>1007</td>\n",
       "      <td>8993</td>\n",
       "    </tr>\n",
       "    <tr>\n",
       "      <th>5</th>\n",
       "      <td>0.818779</td>\n",
       "      <td>0.977578</td>\n",
       "      <td>0.891160</td>\n",
       "      <td>892.0</td>\n",
       "      <td>9108.0</td>\n",
       "      <td>1065</td>\n",
       "      <td>8935</td>\n",
       "    </tr>\n",
       "    <tr>\n",
       "      <th>6</th>\n",
       "      <td>0.945066</td>\n",
       "      <td>0.969729</td>\n",
       "      <td>0.957239</td>\n",
       "      <td>958.0</td>\n",
       "      <td>9042.0</td>\n",
       "      <td>983</td>\n",
       "      <td>9017</td>\n",
       "    </tr>\n",
       "    <tr>\n",
       "      <th>7</th>\n",
       "      <td>0.970766</td>\n",
       "      <td>0.936770</td>\n",
       "      <td>0.953465</td>\n",
       "      <td>1028.0</td>\n",
       "      <td>8972.0</td>\n",
       "      <td>992</td>\n",
       "      <td>9008</td>\n",
       "    </tr>\n",
       "    <tr>\n",
       "      <th>8</th>\n",
       "      <td>0.963087</td>\n",
       "      <td>0.883984</td>\n",
       "      <td>0.921842</td>\n",
       "      <td>974.0</td>\n",
       "      <td>9026.0</td>\n",
       "      <td>894</td>\n",
       "      <td>9106</td>\n",
       "    </tr>\n",
       "    <tr>\n",
       "      <th>9</th>\n",
       "      <td>0.938878</td>\n",
       "      <td>0.928642</td>\n",
       "      <td>0.933732</td>\n",
       "      <td>1009.0</td>\n",
       "      <td>8991.0</td>\n",
       "      <td>998</td>\n",
       "      <td>9002</td>\n",
       "    </tr>\n",
       "  </tbody>\n",
       "</table>\n",
       "</div>"
      ],
      "text/plain": [
       "   Precision    Recall  F1_score   Sum_P   Sum_N  Sum_Pred_P  Sum_Pred_N\n",
       "0   0.956306  0.982653  0.969300   980.0  9020.0        1007        8993\n",
       "1   0.988434  0.978855  0.983621  1135.0  8865.0        1124        8876\n",
       "2   0.963071  0.960271  0.961669  1032.0  8968.0        1029        8971\n",
       "3   0.958935  0.855446  0.904239  1010.0  8990.0         901        9099\n",
       "4   0.946375  0.970468  0.958270   982.0  9018.0        1007        8993\n",
       "5   0.818779  0.977578  0.891160   892.0  9108.0        1065        8935\n",
       "6   0.945066  0.969729  0.957239   958.0  9042.0         983        9017\n",
       "7   0.970766  0.936770  0.953465  1028.0  8972.0         992        9008\n",
       "8   0.963087  0.883984  0.921842   974.0  9026.0         894        9106\n",
       "9   0.938878  0.928642  0.933732  1009.0  8991.0         998        9002"
      ]
     },
     "execution_count": 10,
     "metadata": {},
     "output_type": "execute_result"
    }
   ],
   "source": [
    "S_nn = np.asarray(score_nn)\n",
    "S_nn = pd.DataFrame(S_nn.T)\n",
    "S_nn.columns = ['Precision','Recall','F1_score','Sum_P']\n",
    "\n",
    "S_nn['Sum_N'] = sum(S_nn.Sum_P) - S_nn.Sum_P\n",
    "S_nn['Sum_Pred_P'] = np.unique(pred_nn, return_counts=True)[1]\n",
    "S_nn['Sum_Pred_N'] = sum(S_nn.Sum_Pred_P) - S_nn.Sum_Pred_P\n",
    "\n",
    "S_nn"
   ]
  },
  {
   "cell_type": "code",
   "execution_count": 11,
   "metadata": {},
   "outputs": [],
   "source": [
    "Real_Predicted = pd.DataFrame({'Real_values':b_test,\n",
    "                               'Predicted_values':pred_nn})"
   ]
  },
  {
   "cell_type": "code",
   "execution_count": 12,
   "metadata": {},
   "outputs": [
    {
     "data": {
      "text/html": [
       "<div>\n",
       "<style scoped>\n",
       "    .dataframe tbody tr th:only-of-type {\n",
       "        vertical-align: middle;\n",
       "    }\n",
       "\n",
       "    .dataframe tbody tr th {\n",
       "        vertical-align: top;\n",
       "    }\n",
       "\n",
       "    .dataframe thead th {\n",
       "        text-align: right;\n",
       "    }\n",
       "</style>\n",
       "<table border=\"1\" class=\"dataframe\">\n",
       "  <thead>\n",
       "    <tr style=\"text-align: right;\">\n",
       "      <th></th>\n",
       "      <th>Real_values</th>\n",
       "      <th>Predicted_values</th>\n",
       "    </tr>\n",
       "  </thead>\n",
       "  <tbody>\n",
       "    <tr>\n",
       "      <th>0</th>\n",
       "      <td>7</td>\n",
       "      <td>7</td>\n",
       "    </tr>\n",
       "    <tr>\n",
       "      <th>1</th>\n",
       "      <td>2</td>\n",
       "      <td>2</td>\n",
       "    </tr>\n",
       "    <tr>\n",
       "      <th>2</th>\n",
       "      <td>1</td>\n",
       "      <td>1</td>\n",
       "    </tr>\n",
       "    <tr>\n",
       "      <th>3</th>\n",
       "      <td>0</td>\n",
       "      <td>0</td>\n",
       "    </tr>\n",
       "    <tr>\n",
       "      <th>4</th>\n",
       "      <td>4</td>\n",
       "      <td>4</td>\n",
       "    </tr>\n",
       "    <tr>\n",
       "      <th>5</th>\n",
       "      <td>1</td>\n",
       "      <td>1</td>\n",
       "    </tr>\n",
       "    <tr>\n",
       "      <th>6</th>\n",
       "      <td>4</td>\n",
       "      <td>4</td>\n",
       "    </tr>\n",
       "    <tr>\n",
       "      <th>7</th>\n",
       "      <td>9</td>\n",
       "      <td>9</td>\n",
       "    </tr>\n",
       "    <tr>\n",
       "      <th>8</th>\n",
       "      <td>5</td>\n",
       "      <td>5</td>\n",
       "    </tr>\n",
       "    <tr>\n",
       "      <th>9</th>\n",
       "      <td>9</td>\n",
       "      <td>9</td>\n",
       "    </tr>\n",
       "  </tbody>\n",
       "</table>\n",
       "</div>"
      ],
      "text/plain": [
       "   Real_values  Predicted_values\n",
       "0            7                 7\n",
       "1            2                 2\n",
       "2            1                 1\n",
       "3            0                 0\n",
       "4            4                 4\n",
       "5            1                 1\n",
       "6            4                 4\n",
       "7            9                 9\n",
       "8            5                 5\n",
       "9            9                 9"
      ]
     },
     "execution_count": 12,
     "metadata": {},
     "output_type": "execute_result"
    }
   ],
   "source": [
    "Real_Predicted[:10]"
   ]
  },
  {
   "cell_type": "code",
   "execution_count": 13,
   "metadata": {
    "scrolled": true
   },
   "outputs": [
    {
     "data": {
      "text/html": [
       "<div>\n",
       "<style scoped>\n",
       "    .dataframe tbody tr th:only-of-type {\n",
       "        vertical-align: middle;\n",
       "    }\n",
       "\n",
       "    .dataframe tbody tr th {\n",
       "        vertical-align: top;\n",
       "    }\n",
       "\n",
       "    .dataframe thead th {\n",
       "        text-align: right;\n",
       "    }\n",
       "</style>\n",
       "<table border=\"1\" class=\"dataframe\">\n",
       "  <thead>\n",
       "    <tr style=\"text-align: right;\">\n",
       "      <th></th>\n",
       "      <th>Precision</th>\n",
       "      <th>Recall</th>\n",
       "      <th>F1_score</th>\n",
       "      <th>Sum_P</th>\n",
       "      <th>Sum_N</th>\n",
       "      <th>Sum_Pred_P</th>\n",
       "      <th>Sum_Pred_N</th>\n",
       "      <th>TP</th>\n",
       "      <th>TN</th>\n",
       "      <th>FP</th>\n",
       "      <th>FN</th>\n",
       "    </tr>\n",
       "  </thead>\n",
       "  <tbody>\n",
       "    <tr>\n",
       "      <th>0</th>\n",
       "      <td>0.956306</td>\n",
       "      <td>0.982653</td>\n",
       "      <td>0.969300</td>\n",
       "      <td>980.0</td>\n",
       "      <td>9020.0</td>\n",
       "      <td>1007</td>\n",
       "      <td>8993</td>\n",
       "      <td>963</td>\n",
       "      <td>8976</td>\n",
       "      <td>44</td>\n",
       "      <td>17</td>\n",
       "    </tr>\n",
       "    <tr>\n",
       "      <th>1</th>\n",
       "      <td>0.988434</td>\n",
       "      <td>0.978855</td>\n",
       "      <td>0.983621</td>\n",
       "      <td>1135.0</td>\n",
       "      <td>8865.0</td>\n",
       "      <td>1124</td>\n",
       "      <td>8876</td>\n",
       "      <td>1111</td>\n",
       "      <td>8852</td>\n",
       "      <td>13</td>\n",
       "      <td>24</td>\n",
       "    </tr>\n",
       "    <tr>\n",
       "      <th>2</th>\n",
       "      <td>0.963071</td>\n",
       "      <td>0.960271</td>\n",
       "      <td>0.961669</td>\n",
       "      <td>1032.0</td>\n",
       "      <td>8968.0</td>\n",
       "      <td>1029</td>\n",
       "      <td>8971</td>\n",
       "      <td>991</td>\n",
       "      <td>8930</td>\n",
       "      <td>38</td>\n",
       "      <td>41</td>\n",
       "    </tr>\n",
       "    <tr>\n",
       "      <th>3</th>\n",
       "      <td>0.958935</td>\n",
       "      <td>0.855446</td>\n",
       "      <td>0.904239</td>\n",
       "      <td>1010.0</td>\n",
       "      <td>8990.0</td>\n",
       "      <td>901</td>\n",
       "      <td>9099</td>\n",
       "      <td>864</td>\n",
       "      <td>8953</td>\n",
       "      <td>37</td>\n",
       "      <td>146</td>\n",
       "    </tr>\n",
       "    <tr>\n",
       "      <th>4</th>\n",
       "      <td>0.946375</td>\n",
       "      <td>0.970468</td>\n",
       "      <td>0.958270</td>\n",
       "      <td>982.0</td>\n",
       "      <td>9018.0</td>\n",
       "      <td>1007</td>\n",
       "      <td>8993</td>\n",
       "      <td>953</td>\n",
       "      <td>8964</td>\n",
       "      <td>54</td>\n",
       "      <td>29</td>\n",
       "    </tr>\n",
       "    <tr>\n",
       "      <th>5</th>\n",
       "      <td>0.818779</td>\n",
       "      <td>0.977578</td>\n",
       "      <td>0.891160</td>\n",
       "      <td>892.0</td>\n",
       "      <td>9108.0</td>\n",
       "      <td>1065</td>\n",
       "      <td>8935</td>\n",
       "      <td>872</td>\n",
       "      <td>8915</td>\n",
       "      <td>193</td>\n",
       "      <td>20</td>\n",
       "    </tr>\n",
       "    <tr>\n",
       "      <th>6</th>\n",
       "      <td>0.945066</td>\n",
       "      <td>0.969729</td>\n",
       "      <td>0.957239</td>\n",
       "      <td>958.0</td>\n",
       "      <td>9042.0</td>\n",
       "      <td>983</td>\n",
       "      <td>9017</td>\n",
       "      <td>929</td>\n",
       "      <td>8988</td>\n",
       "      <td>54</td>\n",
       "      <td>29</td>\n",
       "    </tr>\n",
       "    <tr>\n",
       "      <th>7</th>\n",
       "      <td>0.970766</td>\n",
       "      <td>0.936770</td>\n",
       "      <td>0.953465</td>\n",
       "      <td>1028.0</td>\n",
       "      <td>8972.0</td>\n",
       "      <td>992</td>\n",
       "      <td>9008</td>\n",
       "      <td>963</td>\n",
       "      <td>8943</td>\n",
       "      <td>29</td>\n",
       "      <td>65</td>\n",
       "    </tr>\n",
       "    <tr>\n",
       "      <th>8</th>\n",
       "      <td>0.963087</td>\n",
       "      <td>0.883984</td>\n",
       "      <td>0.921842</td>\n",
       "      <td>974.0</td>\n",
       "      <td>9026.0</td>\n",
       "      <td>894</td>\n",
       "      <td>9106</td>\n",
       "      <td>861</td>\n",
       "      <td>8993</td>\n",
       "      <td>33</td>\n",
       "      <td>113</td>\n",
       "    </tr>\n",
       "    <tr>\n",
       "      <th>9</th>\n",
       "      <td>0.938878</td>\n",
       "      <td>0.928642</td>\n",
       "      <td>0.933732</td>\n",
       "      <td>1009.0</td>\n",
       "      <td>8991.0</td>\n",
       "      <td>998</td>\n",
       "      <td>9002</td>\n",
       "      <td>937</td>\n",
       "      <td>8930</td>\n",
       "      <td>61</td>\n",
       "      <td>72</td>\n",
       "    </tr>\n",
       "  </tbody>\n",
       "</table>\n",
       "</div>"
      ],
      "text/plain": [
       "   Precision    Recall  F1_score   Sum_P   Sum_N  Sum_Pred_P  Sum_Pred_N  \\\n",
       "0   0.956306  0.982653  0.969300   980.0  9020.0        1007        8993   \n",
       "1   0.988434  0.978855  0.983621  1135.0  8865.0        1124        8876   \n",
       "2   0.963071  0.960271  0.961669  1032.0  8968.0        1029        8971   \n",
       "3   0.958935  0.855446  0.904239  1010.0  8990.0         901        9099   \n",
       "4   0.946375  0.970468  0.958270   982.0  9018.0        1007        8993   \n",
       "5   0.818779  0.977578  0.891160   892.0  9108.0        1065        8935   \n",
       "6   0.945066  0.969729  0.957239   958.0  9042.0         983        9017   \n",
       "7   0.970766  0.936770  0.953465  1028.0  8972.0         992        9008   \n",
       "8   0.963087  0.883984  0.921842   974.0  9026.0         894        9106   \n",
       "9   0.938878  0.928642  0.933732  1009.0  8991.0         998        9002   \n",
       "\n",
       "     TP    TN   FP   FN  \n",
       "0   963  8976   44   17  \n",
       "1  1111  8852   13   24  \n",
       "2   991  8930   38   41  \n",
       "3   864  8953   37  146  \n",
       "4   953  8964   54   29  \n",
       "5   872  8915  193   20  \n",
       "6   929  8988   54   29  \n",
       "7   963  8943   29   65  \n",
       "8   861  8993   33  113  \n",
       "9   937  8930   61   72  "
      ]
     },
     "execution_count": 13,
     "metadata": {},
     "output_type": "execute_result"
    }
   ],
   "source": [
    "TP = []\n",
    "TN = []\n",
    "FP = []\n",
    "FN = []\n",
    "\n",
    "for i in range(10):\n",
    "    TP.append(len(Real_Predicted[(Real_Predicted['Real_values']==i)&(Real_Predicted['Predicted_values']==i)])) #TP)\n",
    "    TN.append(len(Real_Predicted[(Real_Predicted['Real_values']!=i)&(Real_Predicted['Predicted_values']!=i)])) #TN)\n",
    "    FP.append(len(Real_Predicted[(Real_Predicted['Real_values']!=i)&(Real_Predicted['Predicted_values']==i)])) #FP)\n",
    "    FN.append(len(Real_Predicted[(Real_Predicted['Real_values']==i)&(Real_Predicted['Predicted_values']!=i)])) #FN)\n",
    "              \n",
    "S_nn['TP'], S_nn['TN'], S_nn['FP'], S_nn['FN'] = TP, TN, FP, FN\n",
    "S_nn"
   ]
  },
  {
   "cell_type": "code",
   "execution_count": 14,
   "metadata": {},
   "outputs": [
    {
     "data": {
      "text/plain": [
       "array([[0., 0., 0.],\n",
       "       [0., 0., 0.],\n",
       "       [0., 0., 0.],\n",
       "       [0., 0., 0.],\n",
       "       [0., 0., 0.],\n",
       "       [0., 0., 0.],\n",
       "       [0., 0., 0.],\n",
       "       [0., 0., 0.],\n",
       "       [0., 0., 0.],\n",
       "       [0., 0., 0.]])"
      ]
     },
     "execution_count": 14,
     "metadata": {},
     "output_type": "execute_result"
    }
   ],
   "source": [
    "# Here, we \"recalculated\" the Recall, Precision and F1 scores by ourselves \n",
    "# and compare them with those give by sklearn.\n",
    "\n",
    "R = S_nn.TP/(S_nn.TP + S_nn.FN) # or S.TP/(S.Sum_P)\n",
    "P = S_nn.TP/(S_nn.TP + S_nn.FP) # or S.TP/(S.Sum_Pred_P)\n",
    "F1 = 2*R*P/(R + P) # or 2*S.TP/(2*S.TP + S.FN + S.FP)\n",
    "\n",
    "np.asarray([S_nn.Precision - P, S_nn.Precision - P, S_nn.Precision - P]).T"
   ]
  },
  {
   "cell_type": "markdown",
   "metadata": {},
   "source": [
    "### Now, let's build a K-Nearest Neighbors model and compare it with the Neural Networks one."
   ]
  },
  {
   "cell_type": "code",
   "execution_count": 15,
   "metadata": {},
   "outputs": [],
   "source": [
    "from sklearn import neighbors\n",
    "\n",
    "KNN = neighbors.KNeighborsClassifier(n_jobs=-1)\n",
    "\n",
    "# In a first time I ran the KNN program with the default value of \"n_jobs\" which is \"None\"\n",
    "# but it took much longer to calculate then expected, then I set \"n_jobs\" value at -1\n",
    "# That allowed me using all of the cores and then accelerating the process"
   ]
  },
  {
   "cell_type": "code",
   "execution_count": 16,
   "metadata": {},
   "outputs": [
    {
     "data": {
      "text/plain": [
       "datetime.timedelta(seconds=214, microseconds=103368)"
      ]
     },
     "execution_count": 16,
     "metadata": {},
     "output_type": "execute_result"
    }
   ],
   "source": [
    "t_knn0 = datetime.datetime.now()\n",
    "\n",
    "KNN.fit(a_train.reshape(60000, 28*28), b_train)\n",
    "pred_knn = KNN.predict(a_test.reshape(10000, 28*28))\n",
    "\n",
    "t_knn1 = datetime.datetime.now()\n",
    "t_knn1-t_knn0"
   ]
  },
  {
   "cell_type": "code",
   "execution_count": 17,
   "metadata": {},
   "outputs": [
    {
     "name": "stdout",
     "output_type": "stream",
     "text": [
      "(array([0.96340257, 0.95450716, 0.98216056, 0.96442688, 0.9762151 ,\n",
      "       0.96528555, 0.98130841, 0.96108949, 0.98809524, 0.95626243]), array([0.99387755, 0.99823789, 0.96027132, 0.96633663, 0.96130346,\n",
      "       0.96636771, 0.98643006, 0.96108949, 0.93737166, 0.95341923]), array([0.97840281, 0.97588286, 0.9710926 , 0.96538081, 0.9687019 ,\n",
      "       0.96582633, 0.98386257, 0.96108949, 0.96206533, 0.95483871]), array([ 980, 1135, 1032, 1010,  982,  892,  958, 1028,  974, 1009],\n",
      "      dtype=int64))\n"
     ]
    }
   ],
   "source": [
    "score_knn = sklearn.metrics.precision_recall_fscore_support(b_test, pred_knn)\n",
    "\n",
    "print(score_knn)"
   ]
  },
  {
   "cell_type": "code",
   "execution_count": 18,
   "metadata": {},
   "outputs": [
    {
     "data": {
      "text/html": [
       "<div>\n",
       "<style scoped>\n",
       "    .dataframe tbody tr th:only-of-type {\n",
       "        vertical-align: middle;\n",
       "    }\n",
       "\n",
       "    .dataframe tbody tr th {\n",
       "        vertical-align: top;\n",
       "    }\n",
       "\n",
       "    .dataframe thead th {\n",
       "        text-align: right;\n",
       "    }\n",
       "</style>\n",
       "<table border=\"1\" class=\"dataframe\">\n",
       "  <thead>\n",
       "    <tr style=\"text-align: right;\">\n",
       "      <th></th>\n",
       "      <th>Precision</th>\n",
       "      <th>Recall</th>\n",
       "      <th>F1_score</th>\n",
       "      <th>Sum_P</th>\n",
       "      <th>Sum_N</th>\n",
       "      <th>Sum_Pred_P</th>\n",
       "      <th>Sum_Pred_N</th>\n",
       "    </tr>\n",
       "  </thead>\n",
       "  <tbody>\n",
       "    <tr>\n",
       "      <th>0</th>\n",
       "      <td>0.963403</td>\n",
       "      <td>0.993878</td>\n",
       "      <td>0.978403</td>\n",
       "      <td>980.0</td>\n",
       "      <td>9020.0</td>\n",
       "      <td>1011</td>\n",
       "      <td>8989</td>\n",
       "    </tr>\n",
       "    <tr>\n",
       "      <th>1</th>\n",
       "      <td>0.954507</td>\n",
       "      <td>0.998238</td>\n",
       "      <td>0.975883</td>\n",
       "      <td>1135.0</td>\n",
       "      <td>8865.0</td>\n",
       "      <td>1187</td>\n",
       "      <td>8813</td>\n",
       "    </tr>\n",
       "    <tr>\n",
       "      <th>2</th>\n",
       "      <td>0.982161</td>\n",
       "      <td>0.960271</td>\n",
       "      <td>0.971093</td>\n",
       "      <td>1032.0</td>\n",
       "      <td>8968.0</td>\n",
       "      <td>1009</td>\n",
       "      <td>8991</td>\n",
       "    </tr>\n",
       "    <tr>\n",
       "      <th>3</th>\n",
       "      <td>0.964427</td>\n",
       "      <td>0.966337</td>\n",
       "      <td>0.965381</td>\n",
       "      <td>1010.0</td>\n",
       "      <td>8990.0</td>\n",
       "      <td>1012</td>\n",
       "      <td>8988</td>\n",
       "    </tr>\n",
       "    <tr>\n",
       "      <th>4</th>\n",
       "      <td>0.976215</td>\n",
       "      <td>0.961303</td>\n",
       "      <td>0.968702</td>\n",
       "      <td>982.0</td>\n",
       "      <td>9018.0</td>\n",
       "      <td>967</td>\n",
       "      <td>9033</td>\n",
       "    </tr>\n",
       "    <tr>\n",
       "      <th>5</th>\n",
       "      <td>0.965286</td>\n",
       "      <td>0.966368</td>\n",
       "      <td>0.965826</td>\n",
       "      <td>892.0</td>\n",
       "      <td>9108.0</td>\n",
       "      <td>893</td>\n",
       "      <td>9107</td>\n",
       "    </tr>\n",
       "    <tr>\n",
       "      <th>6</th>\n",
       "      <td>0.981308</td>\n",
       "      <td>0.986430</td>\n",
       "      <td>0.983863</td>\n",
       "      <td>958.0</td>\n",
       "      <td>9042.0</td>\n",
       "      <td>963</td>\n",
       "      <td>9037</td>\n",
       "    </tr>\n",
       "    <tr>\n",
       "      <th>7</th>\n",
       "      <td>0.961089</td>\n",
       "      <td>0.961089</td>\n",
       "      <td>0.961089</td>\n",
       "      <td>1028.0</td>\n",
       "      <td>8972.0</td>\n",
       "      <td>1028</td>\n",
       "      <td>8972</td>\n",
       "    </tr>\n",
       "    <tr>\n",
       "      <th>8</th>\n",
       "      <td>0.988095</td>\n",
       "      <td>0.937372</td>\n",
       "      <td>0.962065</td>\n",
       "      <td>974.0</td>\n",
       "      <td>9026.0</td>\n",
       "      <td>924</td>\n",
       "      <td>9076</td>\n",
       "    </tr>\n",
       "    <tr>\n",
       "      <th>9</th>\n",
       "      <td>0.956262</td>\n",
       "      <td>0.953419</td>\n",
       "      <td>0.954839</td>\n",
       "      <td>1009.0</td>\n",
       "      <td>8991.0</td>\n",
       "      <td>1006</td>\n",
       "      <td>8994</td>\n",
       "    </tr>\n",
       "  </tbody>\n",
       "</table>\n",
       "</div>"
      ],
      "text/plain": [
       "   Precision    Recall  F1_score   Sum_P   Sum_N  Sum_Pred_P  Sum_Pred_N\n",
       "0   0.963403  0.993878  0.978403   980.0  9020.0        1011        8989\n",
       "1   0.954507  0.998238  0.975883  1135.0  8865.0        1187        8813\n",
       "2   0.982161  0.960271  0.971093  1032.0  8968.0        1009        8991\n",
       "3   0.964427  0.966337  0.965381  1010.0  8990.0        1012        8988\n",
       "4   0.976215  0.961303  0.968702   982.0  9018.0         967        9033\n",
       "5   0.965286  0.966368  0.965826   892.0  9108.0         893        9107\n",
       "6   0.981308  0.986430  0.983863   958.0  9042.0         963        9037\n",
       "7   0.961089  0.961089  0.961089  1028.0  8972.0        1028        8972\n",
       "8   0.988095  0.937372  0.962065   974.0  9026.0         924        9076\n",
       "9   0.956262  0.953419  0.954839  1009.0  8991.0        1006        8994"
      ]
     },
     "execution_count": 18,
     "metadata": {},
     "output_type": "execute_result"
    }
   ],
   "source": [
    "S_knn = np.asarray(score_knn)\n",
    "S_knn = pd.DataFrame(S_knn.T)\n",
    "S_knn.columns = ['Precision','Recall','F1_score','Sum_P']\n",
    "\n",
    "S_knn['Sum_N'] = sum(S_knn.Sum_P) - S_knn.Sum_P\n",
    "S_knn['Sum_Pred_P'] = np.unique(pred_knn, return_counts=True)[1]\n",
    "S_knn['Sum_Pred_N'] = sum(S_knn.Sum_Pred_P) - S_knn.Sum_Pred_P\n",
    "\n",
    "S_knn"
   ]
  },
  {
   "cell_type": "markdown",
   "metadata": {},
   "source": [
    "## Now, let's compare the two models:"
   ]
  },
  {
   "cell_type": "code",
   "execution_count": 19,
   "metadata": {},
   "outputs": [
    {
     "data": {
      "text/html": [
       "<div>\n",
       "<style scoped>\n",
       "    .dataframe tbody tr th:only-of-type {\n",
       "        vertical-align: middle;\n",
       "    }\n",
       "\n",
       "    .dataframe tbody tr th {\n",
       "        vertical-align: top;\n",
       "    }\n",
       "\n",
       "    .dataframe thead th {\n",
       "        text-align: right;\n",
       "    }\n",
       "</style>\n",
       "<table border=\"1\" class=\"dataframe\">\n",
       "  <thead>\n",
       "    <tr style=\"text-align: right;\">\n",
       "      <th></th>\n",
       "      <th>Delta_Pr</th>\n",
       "      <th>Delta_Rec</th>\n",
       "      <th>Delta_F1</th>\n",
       "    </tr>\n",
       "  </thead>\n",
       "  <tbody>\n",
       "    <tr>\n",
       "      <th>0</th>\n",
       "      <td>-0.007097</td>\n",
       "      <td>-0.011224</td>\n",
       "      <td>-0.009102</td>\n",
       "    </tr>\n",
       "    <tr>\n",
       "      <th>1</th>\n",
       "      <td>0.033927</td>\n",
       "      <td>-0.019383</td>\n",
       "      <td>0.007738</td>\n",
       "    </tr>\n",
       "    <tr>\n",
       "      <th>2</th>\n",
       "      <td>-0.019090</td>\n",
       "      <td>0.000000</td>\n",
       "      <td>-0.009424</td>\n",
       "    </tr>\n",
       "    <tr>\n",
       "      <th>3</th>\n",
       "      <td>-0.005492</td>\n",
       "      <td>-0.110891</td>\n",
       "      <td>-0.061142</td>\n",
       "    </tr>\n",
       "    <tr>\n",
       "      <th>4</th>\n",
       "      <td>-0.029840</td>\n",
       "      <td>0.009165</td>\n",
       "      <td>-0.010431</td>\n",
       "    </tr>\n",
       "    <tr>\n",
       "      <th>5</th>\n",
       "      <td>-0.146506</td>\n",
       "      <td>0.011211</td>\n",
       "      <td>-0.074666</td>\n",
       "    </tr>\n",
       "    <tr>\n",
       "      <th>6</th>\n",
       "      <td>-0.036242</td>\n",
       "      <td>-0.016701</td>\n",
       "      <td>-0.026624</td>\n",
       "    </tr>\n",
       "    <tr>\n",
       "      <th>7</th>\n",
       "      <td>0.009677</td>\n",
       "      <td>-0.024319</td>\n",
       "      <td>-0.007624</td>\n",
       "    </tr>\n",
       "    <tr>\n",
       "      <th>8</th>\n",
       "      <td>-0.025008</td>\n",
       "      <td>-0.053388</td>\n",
       "      <td>-0.040224</td>\n",
       "    </tr>\n",
       "    <tr>\n",
       "      <th>9</th>\n",
       "      <td>-0.017385</td>\n",
       "      <td>-0.024777</td>\n",
       "      <td>-0.021107</td>\n",
       "    </tr>\n",
       "  </tbody>\n",
       "</table>\n",
       "</div>"
      ],
      "text/plain": [
       "   Delta_Pr  Delta_Rec  Delta_F1\n",
       "0 -0.007097  -0.011224 -0.009102\n",
       "1  0.033927  -0.019383  0.007738\n",
       "2 -0.019090   0.000000 -0.009424\n",
       "3 -0.005492  -0.110891 -0.061142\n",
       "4 -0.029840   0.009165 -0.010431\n",
       "5 -0.146506   0.011211 -0.074666\n",
       "6 -0.036242  -0.016701 -0.026624\n",
       "7  0.009677  -0.024319 -0.007624\n",
       "8 -0.025008  -0.053388 -0.040224\n",
       "9 -0.017385  -0.024777 -0.021107"
      ]
     },
     "execution_count": 19,
     "metadata": {},
     "output_type": "execute_result"
    }
   ],
   "source": [
    "comparison = pd.DataFrame({'Delta_Pr': S_nn.Precision - S_knn.Precision, \n",
    "                           'Delta_Rec': S_nn.Recall - S_knn.Recall,\n",
    "                           'Delta_F1': S_nn.F1_score - S_knn.F1_score,})\n",
    "comparison"
   ]
  },
  {
   "cell_type": "code",
   "execution_count": 20,
   "metadata": {},
   "outputs": [
    {
     "name": "stdout",
     "output_type": "stream",
     "text": [
      "-0.735971059945236\n",
      "-0.25260639617310476\n",
      "11.01988870756599\n"
     ]
    }
   ],
   "source": [
    "print(sum(comparison.Delta_Pr) + sum(comparison.Delta_Rec) + sum(comparison.Delta_F1))\n",
    "print(sum(comparison.Delta_F1))\n",
    "print((t_knn1-t_knn0)/(t_nn1-t_nn0))"
   ]
  },
  {
   "cell_type": "markdown",
   "metadata": {},
   "source": [
    "<p style=\"color:red;\"> Notice that most of scores are negative, namely in the F1-score column which is a combination of Recall and Precision, and then, the most representative metric of the model quality. That means that the KNN led to better results in terms of fitting and prediction ... however, when considering the computational cost the KNN seems to be about 11 times more expensive, even when using all of the cores to run it !!"
   ]
  },
  {
   "cell_type": "code",
   "execution_count": null,
   "metadata": {},
   "outputs": [],
   "source": []
  }
 ],
 "metadata": {
  "kernelspec": {
   "display_name": "Python 3",
   "language": "python",
   "name": "python3"
  },
  "language_info": {
   "codemirror_mode": {
    "name": "ipython",
    "version": 3
   },
   "file_extension": ".py",
   "mimetype": "text/x-python",
   "name": "python",
   "nbconvert_exporter": "python",
   "pygments_lexer": "ipython3",
   "version": "3.7.4"
  }
 },
 "nbformat": 4,
 "nbformat_minor": 2
}
